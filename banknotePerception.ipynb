{
 "cells": [
  {
   "cell_type": "code",
   "execution_count": null,
   "metadata": {},
   "outputs": [
    {
     "ename": "",
     "evalue": "",
     "output_type": "error",
     "traceback": [
      "\u001b[1;31mRunning cells with 'Python 3.10.8 64-bit (microsoft store)' requires ipykernel package.\n",
      "\u001b[1;31mRun the following command to install 'ipykernel' into the Python environment. \n",
      "\u001b[1;31mCommand: 'c:/Users/quoctle00/AppData/Local/Microsoft/WindowsApps/python3.10.exe -m pip install ipykernel -U --force-reinstall'"
     ]
    }
   ],
   "source": [
    "import csv\n",
    "from sklearn.linear_model import Perceptron\n",
    "from sklearn.model_selection import train_test_split\n",
    "from sklearn.neighbors import KNeighborsClassifier\n",
    "from sklearn import svm\n",
    "\n",
    "with open(\"banknotes.csv\") as f:\n",
    "    reader = csv.reader(f)\n",
    "    next(reader)\n",
    "\n",
    "    data = []\n",
    "    for row in reader:\n",
    "        data.append({\n",
    "            \"feature\": [float(cell) for cell in row[:4]],\n",
    "            \"label\": \"Real\" if row[4] == \"0\" else \"fake\"\n",
    "        })\n",
    "\n",
    "    model = Perceptron()\n",
    "    model = KNeighborsClassifier(n_neighbors=3)\n",
    "    model = svm.SVC(kernel=\"linear\")"
   ]
  },
  {
   "cell_type": "code",
   "execution_count": null,
   "metadata": {},
   "outputs": [],
   "source": [
    "features = [row[\"features\"] for row in data]\n",
    "labels = [row[\"label\"] for row in data]\n",
    "\n",
    "X_train, X_test, y_train, y_test = train_test_split(features,labels,test_size=0.4)\n",
    "\n",
    "model.fit(X_train,y_train)\n",
    "\n",
    "predictions = model.predict(X_test)\n",
    "\n",
    "correct = (y_test == predictions).sum()\n",
    "incorrect = (y_test != predictions).sum()\n",
    "total = len(predictions)\n",
    "\n",
    "print(f\"correct: {correct}\")\n",
    "print(f\"incorrect: {incorrect}\")\n",
    "print(f\"total: {100 * correct / total:.2f}%\")"
   ]
  }
 ],
 "metadata": {
  "kernelspec": {
   "display_name": "Python 3.10.8 64-bit (microsoft store)",
   "language": "python",
   "name": "python3"
  },
  "language_info": {
   "name": "python",
   "version": "3.10.8"
  },
  "orig_nbformat": 4,
  "vscode": {
   "interpreter": {
    "hash": "31b5b18896f518d15f88c348e67d23e05a998cc93164a01def9dfab0acac69cf"
   }
  }
 },
 "nbformat": 4,
 "nbformat_minor": 2
}
